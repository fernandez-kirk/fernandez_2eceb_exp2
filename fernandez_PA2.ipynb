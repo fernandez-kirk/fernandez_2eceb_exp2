{
 "cells": [
  {
   "cell_type": "code",
   "execution_count": null,
   "id": "af9c05de-7fa0-4b4d-be19-ed02bfc907b8",
   "metadata": {},
   "outputs": [],
   "source": [
    "NORMALIZATION PROBLEM"
   ]
  },
  {
   "cell_type": "code",
   "execution_count": 2,
   "id": "c9081fad-5f5f-4090-ad06-59d7e337bb53",
   "metadata": {},
   "outputs": [],
   "source": [
    "import numpy as np\n",
    "\n",
    "X = np.random.rand (5,5)\n",
    "\n",
    "mean = X.mean()\n",
    "std = X.std()\n",
    "\n",
    "X_normalized = (X-mean) / std\n",
    "\n",
    "np.save (\"X_normalized.npy\", X_normalized)"
   ]
  },
  {
   "cell_type": "code",
   "execution_count": 3,
   "id": "b362f57e-0bbb-4233-8bce-5a2b1b2e2c92",
   "metadata": {},
   "outputs": [
    {
     "name": "stdout",
     "output_type": "stream",
     "text": [
      "Original Array (X):\n",
      " [[0.0240948  0.89633027 0.70642153 0.23632005 0.21597267]\n",
      " [0.06738925 0.85043024 0.98274354 0.57407844 0.04764572]\n",
      " [0.36073476 0.62891875 0.86682271 0.67086708 0.18198347]\n",
      " [0.16145933 0.25793274 0.40257288 0.86066663 0.62840394]\n",
      " [0.795553   0.37424383 0.79194966 0.43020583 0.52926746]]\n",
      "\n",
      "Normalized Array (X_normalized):\n",
      " [[-1.62728865  1.34445123  0.69742483 -0.90422902 -0.97355332]\n",
      " [-1.47978279  1.18806806  1.63886457  0.24652683 -1.54704975]\n",
      " [-0.48034333  0.43336987  1.24391783  0.57628946 -1.08935587]\n",
      " [-1.15928238 -0.83059376 -0.33779922  1.22294384  0.43161591]\n",
      " [ 1.00109919 -0.43431739  0.98882247 -0.2436527   0.0938541 ]]\n"
     ]
    }
   ],
   "source": [
    "print(\"Original Array (X):\\n\", X)\n",
    "print(\"\\nNormalized Array (X_normalized):\\n\", X_normalized)"
   ]
  },
  {
   "cell_type": "code",
   "execution_count": 5,
   "id": "0e4ca3d4-0420-476d-8c00-bbd10936269b",
   "metadata": {},
   "outputs": [
    {
     "name": "stdout",
     "output_type": "stream",
     "text": [
      "\n",
      "Mean:  0.5017203421335107\n",
      "\n",
      "Standard Deviation:  0.2935100332391841\n"
     ]
    }
   ],
   "source": [
    "print(\"\\nMean: \", mean)\n",
    "print(\"\\nStandard Deviation: \", std)"
   ]
  },
  {
   "cell_type": "code",
   "execution_count": null,
   "id": "b91624f1-2c7a-479e-8829-923116c32918",
   "metadata": {},
   "outputs": [],
   "source": []
  },
  {
   "cell_type": "code",
   "execution_count": null,
   "id": "46dedc7d-fd1d-48c2-98a1-2adf85a752f1",
   "metadata": {},
   "outputs": [],
   "source": [
    "DIVISIBLE BY 3 PROBLEM"
   ]
  },
  {
   "cell_type": "code",
   "execution_count": 6,
   "id": "9e5b21ab-77c1-4fc5-b68a-47329bdea7c1",
   "metadata": {},
   "outputs": [],
   "source": [
    "import numpy as np\n",
    "\n",
    "numbers = np.arange (1, 101)\n",
    "squares = numbers**2\n",
    "\n",
    "A = squares.reshape (10, 10)\n",
    "\n",
    "div_by_3 = A[A % 3 == 0]\n",
    "\n",
    "np.save (\"div_by_3.npy\", div_by_3)"
   ]
  },
  {
   "cell_type": "code",
   "execution_count": 7,
   "id": "4bf1705e-332c-4bd2-84ae-1d6069039463",
   "metadata": {},
   "outputs": [
    {
     "name": "stdout",
     "output_type": "stream",
     "text": [
      "Matrix A (10x10 of squares):\n",
      " [[    1     4     9    16    25    36    49    64    81   100]\n",
      " [  121   144   169   196   225   256   289   324   361   400]\n",
      " [  441   484   529   576   625   676   729   784   841   900]\n",
      " [  961  1024  1089  1156  1225  1296  1369  1444  1521  1600]\n",
      " [ 1681  1764  1849  1936  2025  2116  2209  2304  2401  2500]\n",
      " [ 2601  2704  2809  2916  3025  3136  3249  3364  3481  3600]\n",
      " [ 3721  3844  3969  4096  4225  4356  4489  4624  4761  4900]\n",
      " [ 5041  5184  5329  5476  5625  5776  5929  6084  6241  6400]\n",
      " [ 6561  6724  6889  7056  7225  7396  7569  7744  7921  8100]\n",
      " [ 8281  8464  8649  8836  9025  9216  9409  9604  9801 10000]]\n",
      "\n",
      "Elements divisible by 3:\n",
      " [   9   36   81  144  225  324  441  576  729  900 1089 1296 1521 1764\n",
      " 2025 2304 2601 2916 3249 3600 3969 4356 4761 5184 5625 6084 6561 7056\n",
      " 7569 8100 8649 9216 9801]\n"
     ]
    }
   ],
   "source": [
    "print(\"Matrix A (10x10 of squares):\\n\", A)\n",
    "print(\"\\nElements divisible by 3:\\n\", div_by_3)"
   ]
  }
 ],
 "metadata": {
  "kernelspec": {
   "display_name": "Python [conda env:base] *",
   "language": "python",
   "name": "conda-base-py"
  },
  "language_info": {
   "codemirror_mode": {
    "name": "ipython",
    "version": 3
   },
   "file_extension": ".py",
   "mimetype": "text/x-python",
   "name": "python",
   "nbconvert_exporter": "python",
   "pygments_lexer": "ipython3",
   "version": "3.13.5"
  }
 },
 "nbformat": 4,
 "nbformat_minor": 5
}
